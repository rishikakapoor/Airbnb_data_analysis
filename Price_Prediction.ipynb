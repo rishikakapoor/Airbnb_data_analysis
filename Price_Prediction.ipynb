{
 "cells": [
  {
   "cell_type": "code",
   "execution_count": 1,
   "metadata": {},
   "outputs": [],
   "source": [
    "import numpy as np \n",
    "import pandas as pd \n",
    "import matplotlib.pyplot as plt "
   ]
  },
  {
   "cell_type": "code",
   "execution_count": 2,
   "metadata": {},
   "outputs": [],
   "source": [
    "dataset= pd.read_csv(\"/Users/rishika/Desktop/berlin-airbnb-data/listings_summary.csv\")\n"
   ]
  },
  {
   "cell_type": "code",
   "execution_count": 3,
   "metadata": {},
   "outputs": [],
   "source": [
    "# Missing values\n",
    "dataset.amenities= dataset.amenities.str.count(',')\n",
    "dataset.bathrooms= dataset.bathrooms.fillna(1)\n",
    "dataset.bedrooms= dataset.bedrooms.fillna(1)\n",
    "dataset.beds= dataset.beds.fillna(1)\n"
   ]
  },
  {
   "cell_type": "code",
   "execution_count": 4,
   "metadata": {},
   "outputs": [],
   "source": [
    "# Calculating distance using latitude and longitude\n",
    "from geopy.distance import great_circle\n",
    "def distance_from_berlin(lat,lon):\n",
    "    center=(52.5027778, 13.404166666666667)\n",
    "    record=(lat,lon)\n",
    "    return great_circle(center,record).km\n",
    "dataset['distance'] = dataset.apply(lambda x: distance_from_berlin(x.latitude, x.longitude), axis=1)\n",
    "\n",
    "features=[\"distance\",\"accommodates\",\"bathrooms\",\"bedrooms\",\"beds\",\"minimum_nights\",\"amenities\",\"guests_included\",\"number_of_reviews\",\"availability_365\"]"
   ]
  },
  {
   "cell_type": "code",
   "execution_count": 5,
   "metadata": {},
   "outputs": [
    {
     "name": "stdout",
     "output_type": "stream",
     "text": [
      "<class 'pandas.core.frame.DataFrame'>\n",
      "RangeIndex: 22552 entries, 0 to 22551\n",
      "Data columns (total 10 columns):\n",
      "distance             22552 non-null float64\n",
      "accommodates         22552 non-null int64\n",
      "bathrooms            22552 non-null float64\n",
      "bedrooms             22552 non-null float64\n",
      "beds                 22552 non-null float64\n",
      "minimum_nights       22552 non-null int64\n",
      "amenities            22552 non-null int64\n",
      "guests_included      22552 non-null int64\n",
      "number_of_reviews    22552 non-null int64\n",
      "availability_365     22552 non-null int64\n",
      "dtypes: float64(4), int64(6)\n",
      "memory usage: 1.7 MB\n"
     ]
    }
   ],
   "source": [
    "(dataset[features]).info()"
   ]
  },
  {
   "cell_type": "code",
   "execution_count": 6,
   "metadata": {},
   "outputs": [
    {
     "data": {
      "text/html": [
       "<div>\n",
       "<style scoped>\n",
       "    .dataframe tbody tr th:only-of-type {\n",
       "        vertical-align: middle;\n",
       "    }\n",
       "\n",
       "    .dataframe tbody tr th {\n",
       "        vertical-align: top;\n",
       "    }\n",
       "\n",
       "    .dataframe thead th {\n",
       "        text-align: right;\n",
       "    }\n",
       "</style>\n",
       "<table border=\"1\" class=\"dataframe\">\n",
       "  <thead>\n",
       "    <tr style=\"text-align: right;\">\n",
       "      <th></th>\n",
       "      <th>distance</th>\n",
       "      <th>accommodates</th>\n",
       "      <th>bathrooms</th>\n",
       "      <th>bedrooms</th>\n",
       "      <th>beds</th>\n",
       "      <th>minimum_nights</th>\n",
       "      <th>amenities</th>\n",
       "      <th>guests_included</th>\n",
       "      <th>number_of_reviews</th>\n",
       "      <th>availability_365</th>\n",
       "    </tr>\n",
       "  </thead>\n",
       "  <tbody>\n",
       "    <tr>\n",
       "      <th>0</th>\n",
       "      <td>3.533182</td>\n",
       "      <td>3</td>\n",
       "      <td>1.0</td>\n",
       "      <td>1.0</td>\n",
       "      <td>2.0</td>\n",
       "      <td>4</td>\n",
       "      <td>28</td>\n",
       "      <td>1</td>\n",
       "      <td>118</td>\n",
       "      <td>141</td>\n",
       "    </tr>\n",
       "  </tbody>\n",
       "</table>\n",
       "</div>"
      ],
      "text/plain": [
       "   distance  accommodates  bathrooms  bedrooms  beds  minimum_nights  \\\n",
       "0  3.533182             3        1.0       1.0   2.0               4   \n",
       "\n",
       "   amenities  guests_included  number_of_reviews  availability_365  \n",
       "0         28                1                118               141  "
      ]
     },
     "execution_count": 6,
     "metadata": {},
     "output_type": "execute_result"
    }
   ],
   "source": [
    "(dataset[features]).head(1)"
   ]
  },
  {
   "cell_type": "code",
   "execution_count": 7,
   "metadata": {},
   "outputs": [],
   "source": [
    "# Categorical variables\n",
    "dataset['room_type'] = pd.Categorical(dataset['room_type'])\n",
    "# dataset['property_type'] = pd.Categorical(dataset['room_type'])\n",
    "Dummies1 = pd.get_dummies(dataset['room_type'], prefix = 'category')\n",
    "# Dummies2 = pd.get_dummies(dataset['property_type'], prefix = 'category')\n",
    "# dataset2= pd.concat([Dummies1,Dummies2], axis=1)\n",
    "X= pd.concat([Dummies1,dataset[features]], axis=1)"
   ]
  },
  {
   "cell_type": "code",
   "execution_count": 8,
   "metadata": {},
   "outputs": [],
   "source": [
    "dataset.price =  list(map(lambda x: float(str(x).replace(',','').replace('$','')),dataset.price)) \n",
    "y= dataset[\"price\"]"
   ]
  },
  {
   "cell_type": "code",
   "execution_count": 9,
   "metadata": {},
   "outputs": [],
   "source": [
    "from sklearn.model_selection import train_test_split\n",
    "X_train,X_test, y_train, y_test=train_test_split(X,y,test_size= .25) "
   ]
  },
  {
   "cell_type": "code",
   "execution_count": 10,
   "metadata": {},
   "outputs": [
    {
     "name": "stderr",
     "output_type": "stream",
     "text": [
      "/Users/rishika/anaconda3/lib/python3.7/site-packages/sklearn/preprocessing/data.py:645: DataConversionWarning: Data with input dtype uint8, int64, float64 were all converted to float64 by StandardScaler.\n",
      "  return self.partial_fit(X, y)\n",
      "/Users/rishika/anaconda3/lib/python3.7/site-packages/sklearn/base.py:464: DataConversionWarning: Data with input dtype uint8, int64, float64 were all converted to float64 by StandardScaler.\n",
      "  return self.fit(X, **fit_params).transform(X)\n",
      "/Users/rishika/anaconda3/lib/python3.7/site-packages/ipykernel_launcher.py:5: DataConversionWarning: Data with input dtype uint8, int64, float64 were all converted to float64 by StandardScaler.\n",
      "  \"\"\"\n"
     ]
    }
   ],
   "source": [
    "# normalize data\n",
    "from sklearn.preprocessing import StandardScaler\n",
    "sc = StandardScaler()\n",
    "X_train = sc.fit_transform(X_train)\n",
    "X_test  = sc.transform(X_test)"
   ]
  },
  {
   "cell_type": "code",
   "execution_count": 11,
   "metadata": {},
   "outputs": [
    {
     "name": "stdout",
     "output_type": "stream",
     "text": [
      "0.02041028259146075\n",
      "{'max_depth': 4, 'min_samples_leaf': 1, 'min_weight_fraction_leaf': 0.1, 'random_state': 1}\n"
     ]
    },
    {
     "name": "stderr",
     "output_type": "stream",
     "text": [
      "/Users/rishika/anaconda3/lib/python3.7/site-packages/sklearn/model_selection/_search.py:841: DeprecationWarning: The default of the `iid` parameter will change from True to False in version 0.22 and will be removed in 0.24. This will change numeric results when test-set sizes are unequal.\n",
      "  DeprecationWarning)\n"
     ]
    }
   ],
   "source": [
    "from sklearn.tree import DecisionTreeRegressor\n",
    "regressor = DecisionTreeRegressor()\n",
    "from sklearn.model_selection import GridSearchCV\n",
    "param_grid = [{'max_depth': np.arange(1, 10),\n",
    "              'min_samples_leaf': [1, 5, 10, 20, 50, 100],\n",
    "              'min_weight_fraction_leaf': [0.0,0.1,0.3,0.5],\n",
    "              'random_state':[1,3,4,7]}]\n",
    "gridCV = GridSearchCV(estimator=regressor, param_grid=param_grid,cv=10)\n",
    "gridCV = gridCV.fit(X_train, y_train)\n",
    "print(gridCV.best_score_)\n",
    "print(gridCV.best_params_)"
   ]
  },
  {
   "cell_type": "code",
   "execution_count": 12,
   "metadata": {},
   "outputs": [],
   "source": [
    "md = gridCV.best_params_[\"max_depth\"]\n",
    "msl  = gridCV.best_params_[\"min_samples_leaf\"]\n",
    "mwfl = gridCV.best_params_[\"min_weight_fraction_leaf\"]\n",
    "rs = gridCV.best_params_[\"random_state\"]"
   ]
  },
  {
   "cell_type": "code",
   "execution_count": 13,
   "metadata": {},
   "outputs": [],
   "source": [
    "regr_tree = DecisionTreeRegressor(max_depth=md,min_samples_leaf=msl,min_weight_fraction_leaf=mwfl,random_state=rs)\n",
    "regressor.fit(X_train, y_train)\n",
    "y_pred = regressor.predict(X_test)"
   ]
  },
  {
   "cell_type": "code",
   "execution_count": 14,
   "metadata": {},
   "outputs": [
    {
     "name": "stdout",
     "output_type": "stream",
     "text": [
      "RMSE: 234.8403\n",
      "r2: -0.648\n"
     ]
    }
   ],
   "source": [
    "#Measure error\n",
    "from sklearn.metrics import mean_squared_error, r2_score\n",
    "RMSE = np.sqrt(mean_squared_error(y_test, y_pred))\n",
    "print(f\"RMSE: {round(RMSE, 4)}\")\n",
    "\n",
    "r2 = r2_score(y_test, y_pred)\n",
    "print(f\"r2: {round(r2, 4)}\")"
   ]
  },
  {
   "cell_type": "code",
   "execution_count": null,
   "metadata": {},
   "outputs": [],
   "source": []
  }
 ],
 "metadata": {
  "kernelspec": {
   "display_name": "Python 3",
   "language": "python",
   "name": "python3"
  },
  "language_info": {
   "codemirror_mode": {
    "name": "ipython",
    "version": 3
   },
   "file_extension": ".py",
   "mimetype": "text/x-python",
   "name": "python",
   "nbconvert_exporter": "python",
   "pygments_lexer": "ipython3",
   "version": "3.7.3"
  }
 },
 "nbformat": 4,
 "nbformat_minor": 2
}
